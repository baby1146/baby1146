{
  "nbformat": 4,
  "nbformat_minor": 0,
  "metadata": {
    "colab": {
      "provenance": [],
      "authorship_tag": "ABX9TyO3KXbEzQTo/bZGmYJ94O8U",
      "include_colab_link": true
    },
    "kernelspec": {
      "name": "python3",
      "display_name": "Python 3"
    },
    "language_info": {
      "name": "python"
    }
  },
  "cells": [
    {
      "cell_type": "markdown",
      "metadata": {
        "id": "view-in-github",
        "colab_type": "text"
      },
      "source": [
        "<a href=\"https://colab.research.google.com/github/baby1146/baby1146/blob/main/IBM_HR_Analytics_Employee_Attrition_%26_Performance_.ipynb\" target=\"_parent\"><img src=\"https://colab.research.google.com/assets/colab-badge.svg\" alt=\"Open In Colab\"/></a>"
      ]
    },
    {
      "cell_type": "markdown",
      "source": [
        "#**IBM HR Analytics Employee Attrition & Performance**"
      ],
      "metadata": {
        "id": "hjgINssbLYUr"
      }
    },
    {
      "cell_type": "markdown",
      "source": [
        "##1. Introduction\n",
        "Uncover the factors that lead to employee attrition and explore important questions such as ‘show me a breakdown of distance from home by job role and attrition’ or ‘compare average monthly income by education and attrition’. This is a fictional data set created by IBM data scientists.\n",
        "\n",
        "Attrition Rate: the percentage of employees leaving an organization over a certain period."
      ],
      "metadata": {
        "id": "AVQBnipVLrt3"
      }
    },
    {
      "cell_type": "markdown",
      "source": [
        "##1.1 Dataset Overview\n",
        "**Education**: 1-Below College, 2-College, 3-Bachelor, 4-Master, 5-Doctor\n",
        "\n",
        "**Env.Satisfaction**: 1-Low, 2-Medium, 3-High, 4-Very High\n",
        "\n",
        "**Job Involvement**: 1-Low, 2-Medium, 3-High, 4-Very High\n",
        "\n",
        "**Job Satisfaction**: 1-Low, 2-Medium, 3-High, 4-Very High\n",
        "\n",
        "**Relationship Satisfaction**: 1-Low, 2-Medium, 3-High, 4-Very High\n",
        "\n",
        "**Performance Rating**: 1-Low, 2-Good, 3-Excellent, 4-Outstanding\n",
        "\n",
        "**Work-Life Balance**: 1-Bad, 2-Good, 3-Better, 4-Best\n",
        "\n",
        "This dataset contains information about employee attrition data."
      ],
      "metadata": {
        "id": "CcqVD_CGL4n5"
      }
    },
    {
      "cell_type": "markdown",
      "source": [
        "\n",
        "##2. Data Collection"
      ],
      "metadata": {
        "id": "hodUU7s9MHix"
      }
    },
    {
      "cell_type": "code",
      "execution_count": null,
      "metadata": {
        "id": "tVKKXwpDU7Zx"
      },
      "outputs": [],
      "source": [
        "# Suppress warnings\n",
        "import warnings\n",
        "warnings.filterwarnings('ignore')"
      ]
    },
    {
      "cell_type": "code",
      "source": [
        "import pandas as pd\n",
        "import numpy as np\n",
        "import matplotlib.pyplot as plt\n",
        "import seaborn as sns"
      ],
      "metadata": {
        "id": "L-CAqbFUMXTS"
      },
      "execution_count": null,
      "outputs": []
    },
    {
      "cell_type": "code",
      "source": [
        "import kagglehub\n",
        "import os\n",
        "\n",
        "# Download latest version\n",
        "dataset_dir = kagglehub.dataset_download(\"pavansubhasht/ibm-hr-analytics-attrition-dataset\")\n",
        "\n",
        "# Find the CSV file within the downloaded directory\n",
        "for filename in os.listdir(dataset_dir):\n",
        "    if filename.endswith(\".csv\"):\n",
        "        csv_path = os.path.join(dataset_dir, filename)\n",
        "        break\n",
        "\n",
        "# Read the CSV file using pandas\n",
        "df = pd.read_csv(csv_path)\n"
      ],
      "metadata": {
        "id": "gp5MnOdRfRO4"
      },
      "execution_count": null,
      "outputs": []
    },
    {
      "cell_type": "code",
      "source": [
        "df.head()"
      ],
      "metadata": {
        "id": "mB4AK79INB-2"
      },
      "execution_count": null,
      "outputs": []
    },
    {
      "cell_type": "markdown",
      "source": [
        "#3.Data Cleaning and Preprocessing"
      ],
      "metadata": {
        "id": "UUPwt_uugQ4X"
      }
    },
    {
      "cell_type": "code",
      "source": [
        "# Overview of the Dataset\n",
        "df.info()"
      ],
      "metadata": {
        "id": "xDX9TGZUgrbe"
      },
      "execution_count": null,
      "outputs": []
    },
    {
      "cell_type": "code",
      "source": [
        "\n",
        "# Check for Missing Values\n",
        "df.isnull().sum()"
      ],
      "metadata": {
        "id": "WRERZ3-tgTfm"
      },
      "execution_count": null,
      "outputs": []
    },
    {
      "cell_type": "markdown",
      "source": [
        "we have no null values"
      ],
      "metadata": {
        "id": "g86XayHggdEM"
      }
    },
    {
      "cell_type": "code",
      "source": [
        "#Basic Statistics:\n",
        "df.describe()"
      ],
      "metadata": {
        "id": "F6ciuqeZgaky"
      },
      "execution_count": null,
      "outputs": []
    },
    {
      "cell_type": "code",
      "source": [
        "#check duplicate values\n",
        "df.duplicated().sum()"
      ],
      "metadata": {
        "id": "0S4fMtXZN-uZ"
      },
      "execution_count": null,
      "outputs": []
    },
    {
      "cell_type": "code",
      "source": [
        "# Drop irrelevant columns\n",
        "irrelevant_cols = ['EmployeeNumber', 'Over18', 'EmployeeCount', 'StandardHours']\n",
        "attrition_df = df.drop(columns=irrelevant_cols)"
      ],
      "metadata": {
        "id": "UjnodG5Il3QK"
      },
      "execution_count": null,
      "outputs": []
    },
    {
      "cell_type": "code",
      "source": [
        "attrition_df.head(10)"
      ],
      "metadata": {
        "id": "sYzjBKm2mGjZ"
      },
      "execution_count": null,
      "outputs": []
    },
    {
      "cell_type": "markdown",
      "source": [
        "#4.Exploratory Data Analysis (EDA)"
      ],
      "metadata": {
        "id": "HNHKl1YtoMqP"
      }
    },
    {
      "cell_type": "code",
      "source": [
        "# Understanding the distribution of 'Attrition'\n",
        "plt.figure(figsize=(8, 6))\n",
        "sns.countplot(x='Attrition', data=attrition_df, palette='viridis')\n",
        "plt.title('Attrition Count')\n",
        "plt.show()"
      ],
      "metadata": {
        "id": "gxFrDoofnz55"
      },
      "execution_count": null,
      "outputs": []
    },
    {
      "cell_type": "code",
      "source": [
        "# Outlier Analysis\n",
        "# Analyzing numeric columns for potential outliers\n",
        "numerical_cols = ['Age', 'DailyRate', 'DistanceFromHome', 'MonthlyIncome',\n",
        "                  'NumCompaniesWorked', 'PercentSalaryHike', 'TotalWorkingYears',\n",
        "                  'YearsAtCompany', 'YearsInCurrentRole', 'YearsSinceLastPromotion',\n",
        "                  'YearsWithCurrManager']"
      ],
      "metadata": {
        "id": "MhaGI2j4oA9x"
      },
      "execution_count": null,
      "outputs": []
    },
    {
      "cell_type": "code",
      "source": [
        "# Boxplots for outliers\n",
        "for col in numerical_cols:\n",
        "    plt.figure(figsize=(10, 5))\n",
        "    sns.boxplot(data=attrition_df, x=col, palette='viridis')\n",
        "    plt.title(f'Boxplot of {col}')\n",
        "    plt.show()"
      ],
      "metadata": {
        "id": "mPcFQj9jG5u9"
      },
      "execution_count": null,
      "outputs": []
    },
    {
      "cell_type": "code",
      "source": [
        "\n",
        "# List of features to handle outliers\n",
        "features = ['YearsWithCurrManager', 'YearsSinceLastPromotion',\n",
        "            'YearsInCurrentRole', 'YearsAtCompany',\n",
        "            'TotalWorkingYears', 'MonthlyIncome']\n",
        "\n",
        "# Function to Analyze outliers\n",
        "def handle_outliers(df, features):\n",
        "    for feature in features:\n",
        "        # Calculate IQR\n",
        "        Q1 = df[feature].quantile(0.25)\n",
        "        Q3 = df[feature].quantile(0.75)\n",
        "        IQR = Q3 - Q1\n",
        "        lower_bound = Q1 - 1.5 * IQR\n",
        "        upper_bound = Q3 + 1.5 * IQR\n",
        "        print(f\"\\nAnalyzing outliers for '{feature}':\")\n",
        "        outliers = df[(df[feature] < lower_bound) | (df[feature] > upper_bound)]\n",
        "        print(f\"Number of outliers: {len(outliers)}\")\n",
        "        print(f\"Lower bound: {lower_bound}, Upper bound: {upper_bound}\")\n",
        "         # Plot box plot to visualize outliers\n",
        "        plt.figure(figsize=(10, 6))\n",
        "        sns.boxplot(x=df[feature])\n",
        "\n",
        "\n",
        "    return df\n",
        "\n",
        "# Handle outliers\n",
        "df_cleaned = handle_outliers(attrition_df, features)\n",
        "\n",
        "# For analysis, show the final dataset shape\n",
        "print(f\"Final dataset shape: {df_cleaned.shape}\")\n",
        "\n"
      ],
      "metadata": {
        "id": "kT7iOO3eG-nU"
      },
      "execution_count": null,
      "outputs": []
    },
    {
      "cell_type": "code",
      "source": [
        "\n",
        "# Function to handle outliers by capping or removing them\n",
        "def handle_outliers(df, column, lower_bound, upper_bound, action='remove'):\n",
        "    \"\"\"\n",
        "    Handle outliers for a given column.\n",
        "    Parameters:\n",
        "    - attrition_df: The dataframe\n",
        "    - column: The column to handle\n",
        "    - lower_bound: The lower bound for outliers\n",
        "    - upper_bound: The upper bound for outliers\n",
        "    - action: 'remove' to remove outliers, 'cap' to cap the outliers\n",
        "    \"\"\"\n",
        "    if action == 'remove':\n",
        "        # Remove outliers by filtering based on the IQR\n",
        "        df = df[(df[column] >= lower_bound) & (df[column] <= upper_bound)]\n",
        "    elif action == 'cap':\n",
        "        # Cap the outliers to the upper and lower bounds\n",
        "        df[column] = np.where(df[column] < lower_bound, lower_bound, df[column])\n",
        "        df[column] = np.where(df[column] > upper_bound, upper_bound, df[column])\n",
        "\n",
        "    return df\n",
        "\n",
        "# Handling outliers for 'YearsWithCurrManager'\n",
        "attrition_df = handle_outliers(attrition_df, 'YearsWithCurrManager', lower_bound=-5.5, upper_bound=14.5, action='remove')\n",
        "\n",
        "# Handling outliers for 'YearsSinceLastPromotion'\n",
        "attrition_df = handle_outliers(attrition_df, 'YearsSinceLastPromotion', lower_bound=-4.5, upper_bound=7.5, action='remove')\n",
        "\n",
        "# Handling outliers for 'YearsInCurrentRole'\n",
        "attrition_df = handle_outliers(attrition_df, 'YearsInCurrentRole', lower_bound=-5.5, upper_bound=14.5, action='remove')\n",
        "\n",
        "# Handling outliers for 'YearsAtCompany'\n",
        "attrition_df = handle_outliers(attrition_df, 'YearsAtCompany', lower_bound=-6.0, upper_bound=18.0, action='remove')\n",
        "\n",
        "# Handling outliers for 'TotalWorkingYears'\n",
        "attrition_df = handle_outliers(attrition_df, 'TotalWorkingYears', lower_bound=-7.5, upper_bound=28.5, action='remove')\n",
        "\n",
        "# Handling outliers for 'MonthlyIncome'\n",
        "attrition_df = handle_outliers(attrition_df, 'MonthlyIncome', lower_bound=-5291.0, upper_bound=16581.0, action='cap')\n",
        "\n",
        "# After handling outliers, check the shape of the dataset\n",
        "print(f\"Final dataset shape: {attrition_df.shape}\")\n",
        "\n",
        "# You can check the changes by inspecting any column\n",
        "print(attrition_df[['YearsWithCurrManager', 'YearsSinceLastPromotion', 'YearsInCurrentRole', 'YearsAtCompany', 'TotalWorkingYears', 'MonthlyIncome']].describe())\n"
      ],
      "metadata": {
        "id": "2wNSIsypSVTh"
      },
      "execution_count": null,
      "outputs": []
    },
    {
      "cell_type": "code",
      "source": [
        "\n",
        "# Correlation Analysis\n",
        "corr_matrix = attrition_df[numerical_cols].corr()\n",
        "plt.figure(figsize=(12, 8))\n",
        "sns.heatmap(corr_matrix, annot=True, cmap='coolwarm', fmt='.2f')\n",
        "plt.title('Correlation Matrix')\n",
        "plt.show()\n"
      ],
      "metadata": {
        "id": "ThSNzpgoX2vW"
      },
      "execution_count": null,
      "outputs": []
    },
    {
      "cell_type": "markdown",
      "source": [
        "Experience Drives Tenure: Longer working years strongly correlate with tenure, role duration, and manager association.\n",
        "\n",
        "Income Rises with Experience: Age and work experience moderately influence monthly income.\n",
        "\n",
        "Independent Factors: Distance from home, salary hikes, and daily rate show minimal impact on other metrics.\n",
        "\n",
        "\n",
        "\n",
        "\n",
        "\n",
        "\n"
      ],
      "metadata": {
        "id": "JH2WDm_e69lj"
      }
    },
    {
      "cell_type": "code",
      "source": [
        "attrition_df.head()"
      ],
      "metadata": {
        "id": "lTzZMldBZrVR"
      },
      "execution_count": null,
      "outputs": []
    },
    {
      "cell_type": "code",
      "source": [
        "from sklearn.preprocessing import LabelEncoder\n",
        "from sklearn.ensemble import RandomForestClassifier\n",
        "\n",
        "categorical_cols = ['BusinessTravel', 'Department', 'EducationField', 'Gender', 'MaritalStatus', 'OverTime']\n",
        "# Identify all categorical columns in the dataset\n",
        "categorical_cols = attrition_df.select_dtypes(include=['object']).columns.tolist()\n",
        "\n",
        "# Encode all categorical columns, including 'Attrition'\n",
        "data_encoded = attrition_df.copy()\n",
        "label_encoders = {}\n",
        "\n",
        "for col in categorical_cols:\n",
        "    le = LabelEncoder()\n",
        "    data_encoded[col] = le.fit_transform(data_encoded[col])\n",
        "    label_encoders[col] = le\n",
        "\n",
        "# Ensure all columns are numeric\n",
        "non_numeric_cols = data_encoded.select_dtypes(include=['object']).columns\n",
        "if not non_numeric_cols.empty:\n",
        "    print(\"Remaining non-numeric columns:\", non_numeric_cols)\n",
        "else:\n",
        "    print(\"All columns are numeric now.\")\n",
        "\n",
        "# Define features (X) and target (y)\n",
        "target = 'Attrition'\n",
        "X = data_encoded.drop(columns=[target])\n",
        "y = data_encoded[target]\n",
        "\n",
        "# # Confirm data types for debugging\n",
        "# print(\"X types:\\n\", X.dtypes)\n",
        "# print(\"y type:\\n\", y.dtype)\n",
        "\n",
        "# Train the Random Forest model\n",
        "rf = RandomForestClassifier(random_state=42)\n",
        "rf.fit(X, y)\n",
        "\n",
        "# Feature Importance Plot\n",
        "importances = pd.DataFrame({'Feature': X.columns, 'Importance': rf.feature_importances_})\n",
        "importances = importances.sort_values(by='Importance', ascending=False)\n",
        "\n",
        "import matplotlib.pyplot as plt\n",
        "import seaborn as sns\n",
        "\n",
        "plt.figure(figsize=(12, 8))\n",
        "sns.barplot(data=importances, x='Importance', y='Feature', palette='viridis')\n",
        "plt.title('Feature Importance')\n",
        "plt.show()\n"
      ],
      "metadata": {
        "id": "VFP9KUxkTNGU"
      },
      "execution_count": null,
      "outputs": []
    },
    {
      "cell_type": "markdown",
      "source": [
        " `RandomForestClassifier` is effective for classifying and predicting HR-related outcomes based on complex, multidimensional employee data, making it useful for HR decision-making in companies like IBM.\n",
        "\n",
        "  Random forests provide insights into feature importance, helping HR teams understand which factors (e.g., satisfaction, work-life balance, etc.) are most predictive of outcomes like attrition or performance.\n",
        "\n"
      ],
      "metadata": {
        "id": "WsJ23wRup4ue"
      }
    },
    {
      "cell_type": "code",
      "source": [
        "# Attrition by Job Role\n",
        "\n",
        "plt.figure(figsize=(14, 8))\n",
        "sns.countplot(data=attrition_df, y='JobRole', hue='Attrition', palette='viridis', order=attrition_df['JobRole'].value_counts().index)\n",
        "plt.title('Attrition by Job Role')\n",
        "plt.show()"
      ],
      "metadata": {
        "id": "p1V0BhDX0kfw"
      },
      "execution_count": null,
      "outputs": []
    },
    {
      "cell_type": "code",
      "source": [
        " # Violin plot of MonthlyIncome by Attrition\n",
        "plt.figure(figsize=(10, 6))\n",
        "sns.violinplot(data=attrition_df, x='Attrition', y='MonthlyIncome', palette='viridis')\n",
        "plt.title('Monthly Income Distribution by Attrition')\n",
        "plt.show()\n"
      ],
      "metadata": {
        "id": "rZPtEGRqqFXm"
      },
      "execution_count": null,
      "outputs": []
    },
    {
      "cell_type": "code",
      "source": [
        "#Average Daily Rate By Attrition\n",
        "plt.figure(figsize=(10, 6))\n",
        "sns.boxplot(data=attrition_df, x='Attrition', y='DailyRate', palette='viridis')\n",
        "plt.title('Average Daily Rate by Attrition')\n",
        "plt.xlabel('Attrition')\n",
        "plt.ylabel('Average Daily Rate')\n",
        "plt.show()\n"
      ],
      "metadata": {
        "id": "VeSIdJYzwHbB"
      },
      "execution_count": null,
      "outputs": []
    },
    {
      "cell_type": "code",
      "source": [
        "#Daily Rate by Department and Attrition\n",
        "plt.figure(figsize=(14, 8))\n",
        "sns.boxplot(data=attrition_df, x='Department', y='DailyRate', hue='Attrition', palette='viridis')\n",
        "plt.title('Daily Rate by Department and Attrition')\n",
        "plt.xlabel('Department')\n",
        "plt.ylabel('Daily Rate')\n",
        "plt.xticks(rotation=45)\n",
        "plt.legend(title='Attrition', loc='upper right')\n",
        "plt.show()\n"
      ],
      "metadata": {
        "id": "MwlIah7xoxwz"
      },
      "execution_count": null,
      "outputs": []
    },
    {
      "cell_type": "code",
      "source": [
        "#Attrition Distribution for OverTime Workers\n",
        "import matplotlib.cm as cm\n",
        "# Use viridis colormap\n",
        "cmap = cm.get_cmap('viridis')\n",
        "colors = [cmap(0.2), cmap(0.7)]  # Adjust indices for contrast\n",
        "\n",
        "\n",
        "\n",
        "overtime_attrition = attrition_df[attrition_df['OverTime'] == 'Yes']['Attrition'].value_counts()\n",
        "\n",
        "overtime_attrition.plot.pie(\n",
        "    autopct='%1.1f%%',\n",
        "    startangle=90,\n",
        "    colors=colors,\n",
        "    labels=['Stayed', 'Left'],\n",
        "    title='Attrition Distribution for Overtime Workers'\n",
        ")\n",
        "plt.ylabel('')  # Removes the default y-axis label\n",
        "plt.show()\n"
      ],
      "metadata": {
        "id": "UOHlP1IJmW_D"
      },
      "execution_count": null,
      "outputs": []
    },
    {
      "cell_type": "code",
      "source": [
        "# Average Distance From Home by Attrition\n",
        "avg_distance = attrition_df.groupby('Attrition')['DistanceFromHome'].mean().reset_index()\n",
        "\n",
        "sns.barplot(data=avg_distance, x='Attrition', y='DistanceFromHome', palette='viridis')\n",
        "plt.title('Average Distance From Home by Attrition')\n",
        "plt.xlabel('Attrition')\n",
        "plt.ylabel('Average Distance From Home')\n",
        "plt.show()\n"
      ],
      "metadata": {
        "id": "1SDwV6f_tXoB"
      },
      "execution_count": null,
      "outputs": []
    },
    {
      "cell_type": "code",
      "source": [
        "#Average Job Satisfaction by Attrition\n",
        "sns.barplot(data=attrition_df, x='Attrition', y='JobSatisfaction', palette='viridis', ci=None)\n",
        "plt.title('Average Job Satisfaction by Attrition')\n",
        "plt.xlabel('Attrition')\n",
        "plt.ylabel('Average Job Satisfaction')\n",
        "plt.ylim(0, 5)  # Assuming JobSatisfaction levels range from 1 to 4\n",
        "plt.show()\n"
      ],
      "metadata": {
        "id": "umVEcUS6uXEL"
      },
      "execution_count": null,
      "outputs": []
    },
    {
      "cell_type": "code",
      "source": [
        "#Numerical Features\n",
        "import matplotlib.pyplot as plt\n",
        "import seaborn as sns\n",
        "\n",
        "# Features to include\n",
        "numerical_features = ['YearsInCurrentRole', 'YearsWithCurrManager', 'YearsAtCompany', 'YearsSinceLastPromotion']\n",
        "\n",
        "# Create subplots for all features\n",
        "fig, axes = plt.subplots(1, len(numerical_features), figsize=(20, 6), sharey=False)\n",
        "\n",
        "# Iterate through the features and apply different plot types\n",
        "for i, feature in enumerate(numerical_features):\n",
        "    ax = axes[i]  # Select the appropriate subplot\n",
        "\n",
        "    if i == 0:\n",
        "        # Line plot for YearsInCurrentRole\n",
        "        sns.violinplot(data=attrition_df, x='Attrition', y=feature, ax=ax,hue='Attrition')\n",
        "        ax.set_title(f'Line: {feature} by Attrition', fontsize=12)\n",
        "\n",
        "    elif i == 1:\n",
        "        # Bar plot for YearsWithCurrManager\n",
        "        sns.barplot(data=attrition_df, x='Attrition', y=feature, ci=None, palette='muted', ax=ax)\n",
        "        ax.set_title(f'Bar: {feature} by Attrition', fontsize=12)\n",
        "\n",
        "    elif i == 2:\n",
        "        # Boxen plot for YearsAtCompany\n",
        "        sns.boxplot(data=attrition_df, x='Attrition', y=feature, palette='viridis', ax=ax)\n",
        "        ax.set_title(f'Boxen: {feature} by Attrition', fontsize=12)\n",
        "\n",
        "    elif i == 3:\n",
        "        # Simple bar chart for YearsSinceLastPromotion\n",
        "        sns.barplot(data=attrition_df, x='Attrition', y=feature, ci=None, palette='muted', ax=ax)\n",
        "        ax.set_title(f'Bar: {feature} by Attrition', fontsize=12)\n",
        "\n",
        "# Adjust layout for readability\n",
        "plt.suptitle('Mixed Plots for Years Features by Attrition', fontsize=16, y=1.05)\n",
        "plt.tight_layout()\n",
        "plt.show()\n"
      ],
      "metadata": {
        "id": "fYyYC3E3SPnb"
      },
      "execution_count": null,
      "outputs": []
    },
    {
      "cell_type": "code",
      "source": [
        "#Categorical Features\n",
        "import matplotlib.pyplot as plt\n",
        "import seaborn as sns\n",
        "\n",
        "# Define features\n",
        "categorical_features = ['NumCompaniesWorked', 'EnvironmentSatisfaction', 'StockOptionLevel', 'PercentSalaryHike']\n",
        "\n",
        "# Create subplots\n",
        "fig, axes = plt.subplots(1, len(categorical_features), figsize=(24, 6), sharey=False)\n",
        "\n",
        "# Plot for NoOfCompaniesWorked (Horizontal Bar Chart)\n",
        "ax = axes[0]\n",
        "no_of_companies_counts = attrition_df['NumCompaniesWorked'].value_counts()\n",
        "sns.barplot(\n",
        "    y=no_of_companies_counts.index,\n",
        "    x=no_of_companies_counts.values,\n",
        "    palette='viridis',\n",
        "    ax=ax\n",
        ")\n",
        "ax.set_title('No. of Companies Worked (Bar Chart)', fontsize=12)\n",
        "ax.set_xlabel('Count')\n",
        "ax.set_ylabel('No. of Companies Worked')\n",
        "\n",
        "\n",
        "# Plot for EnvironmentalSatisfaction (Bar Plot)\n",
        "ax = axes[1]\n",
        "sns.barplot(\n",
        "    data=attrition_df,\n",
        "    x='EnvironmentSatisfaction',\n",
        "    y='Attrition',\n",
        "    ci=None,\n",
        "    palette='coolwarm',\n",
        "    ax=ax\n",
        ")\n",
        "ax.set_title('Environmental Satisfaction vs Attrition', fontsize=12)\n",
        "ax.set_xlabel('Environmental Satisfaction')\n",
        "ax.set_ylabel('Attrition Rate')\n",
        "\n",
        "# Plot for StockOptionLevel (Stacked Bar Plot)\n",
        "ax = axes[2]\n",
        "stock_option_counts = attrition_df.groupby(['Attrition', 'StockOptionLevel']).size().unstack(fill_value=0)\n",
        "stock_option_counts.plot(kind='bar', stacked=True, ax=ax, color=['blue', 'red'], edgecolor='black')\n",
        "ax.set_title('Stock Option Level by Attrition', fontsize=12)\n",
        "ax.set_xlabel('Attrition')\n",
        "ax.set_ylabel('Count')\n",
        "ax.legend(title='Stock Option Level')\n",
        "\n",
        "# Plot for PercentSalaryHike (Boxen Plot)\n",
        "ax = axes[3]\n",
        "sns.boxenplot(\n",
        "    data=attrition_df,\n",
        "    x='Attrition',\n",
        "    y='PercentSalaryHike',\n",
        "    palette='pastel',\n",
        "    ax=ax\n",
        ")\n",
        "ax.set_title('Percent Salary Hike by Attrition (Boxen Plot)', fontsize=12)\n",
        "ax.set_xlabel('Attrition')\n",
        "ax.set_ylabel('Percent Salary Hike')\n",
        "\n",
        "# Adjust layout\n",
        "plt.suptitle('Visualization of Selected Features by Attrition', fontsize=16, y=1.05)\n",
        "plt.tight_layout()\n",
        "plt.show()\n"
      ],
      "metadata": {
        "id": "ZLvK9KHgzCNt"
      },
      "execution_count": null,
      "outputs": []
    },
    {
      "cell_type": "code",
      "source": [
        " # 1. Monthly Income vs Job Role for Attrition (Bar Plot)\n",
        "plt.figure(figsize=(14, 8))\n",
        "sns.barplot(data=attrition_df, x='MonthlyIncome', y='JobRole', hue='Attrition', ci=None, palette='viridis')\n",
        "plt.title('Monthly Income vs. Job Role for Attrition')\n",
        "plt.xticks(rotation=70)\n",
        "plt.show()"
      ],
      "metadata": {
        "id": "k-skbBQ4unQO"
      },
      "execution_count": null,
      "outputs": []
    },
    {
      "cell_type": "code",
      "source": [
        "import plotly.express as px\n",
        "\n",
        "fig = px.scatter(attrition_df, x='Age', y='MonthlyIncome', color='Attrition', hover_data=['JobRole'])\n",
        "fig.show()\n"
      ],
      "metadata": {
        "id": "_dZ3zRJYr8eX"
      },
      "execution_count": null,
      "outputs": []
    },
    {
      "cell_type": "markdown",
      "source": [
        "\n",
        "\n",
        "Higher Attrition in Younger and Low-Income Groups: Younger employees (20–30 years) and those earning below 5,000 show the highest attrition rates.\n",
        "\n",
        "Income Correlation with Retention: Higher-income employees (>10,000) have significantly lower attrition, highlighting income as a key retention factor.\n",
        "\n",
        "Age-Income Trend: Monthly income increases with age, but attrition remains concentrated among low-income employees across all age groups.\n"
      ],
      "metadata": {
        "id": "MozT0aGOdnhm"
      }
    },
    {
      "cell_type": "code",
      "source": [
        "\n",
        "# 4. Monthly Income and Years at Company (Line Plot)\n",
        "plt.figure(figsize=(12, 6))\n",
        "sns.lineplot(data=attrition_df, x='YearsAtCompany', y='MonthlyIncome', hue='Attrition', palette='viridis', markers=True, ci=None)\n",
        "plt.title('Monthly Income vs. Years at Company by Attrition')\n",
        "plt.show()\n"
      ],
      "metadata": {
        "id": "0_WPiPsJyYZm"
      },
      "execution_count": null,
      "outputs": []
    },
    {
      "cell_type": "markdown",
      "source": [
        "Employees with fewer years at the company (0–5 years) and lower income exhibit higher attrition rates compared to long-tenured employees.\n",
        "\n",
        "Monthly income steadily increases with years at the company, reflecting the impact of tenure on compensation.\n",
        "\n",
        "Employees with more than 10 years at the company and higher incomes demonstrate significantly lower attrition rates."
      ],
      "metadata": {
        "id": "e9vaf4C2ennG"
      }
    },
    {
      "cell_type": "code",
      "source": [
        "attrition_df.columns"
      ],
      "metadata": {
        "id": "5PEbYH6El_Ok"
      },
      "execution_count": null,
      "outputs": []
    },
    {
      "cell_type": "code",
      "source": [
        "g = sns.FacetGrid(data=attrition_df, col=\"Department\", hue=\"Attrition\", height=5, aspect=1)\n",
        "g.map(sns.scatterplot, \"YearsAtCompany\", \"MonthlyIncome\", alpha=0.7)\n",
        "g.add_legend()\n"
      ],
      "metadata": {
        "id": "e8DhcRq7loR-"
      },
      "execution_count": null,
      "outputs": []
    },
    {
      "cell_type": "markdown",
      "source": [
        "Employees with higher DailyRate tend to have lower attrition, and the distribution of DailyRate varies significantly across different departments."
      ],
      "metadata": {
        "id": "JCbanzioqETA"
      }
    },
    {
      "cell_type": "markdown",
      "source": [
        "Employees with lower monthly income are more likely to leave, regardless of their job satisfaction level."
      ],
      "metadata": {
        "id": "UiXEif_O5dLn"
      }
    },
    {
      "cell_type": "code",
      "source": [
        "# Pivot table to calculate average monthly income\n",
        "heatmap_data = attrition_df.pivot_table(values='MonthlyIncome', index='JobSatisfaction', columns='Attrition', aggfunc='mean')\n",
        "\n",
        "sns.heatmap(heatmap_data, annot=True, fmt='.0f', cmap='viridis', cbar=True)\n",
        "plt.title('Average Monthly Income by Job Satisfaction and Attrition')\n",
        "plt.xlabel('Attrition')\n",
        "plt.ylabel('Job Satisfaction')\n",
        "plt.show()\n"
      ],
      "metadata": {
        "id": "lgLcC0CJz6Zi"
      },
      "execution_count": null,
      "outputs": []
    },
    {
      "cell_type": "markdown",
      "source": [
        "##Summary of Attrition Analysis\n",
        "- Employees working overtime leave more often; flexible schedules may help.\n",
        "- Low job satisfaction increases turnover; better engagement can reduce it.\n",
        "- Long commutes cause more employees to leave; remote work could help.\n",
        "- Shorter tenure or unstable roles lead to more quitting; career growth support is key.\n",
        "- Lack of promotions drives people away; regular growth chances are important.\n",
        "- Employees with many past jobs may need tailored retention plans.\n",
        "- Poor workplace conditions increase quitting; improving them boosts retention.\n",
        "- Limited stock options cause more attrition; better benefits improve loyalty.\n",
        "- Small salary hikes push employees to leave; regular raises matter.\n",
        "- Focus on work-life balance, engagement, flexibility, career growth, pay, and benefits.\n",
        "\n",
        "\n",
        "\n",
        "\n",
        "\n",
        "\n",
        "\n"
      ],
      "metadata": {
        "id": "qMQR110Rvfyw"
      }
    },
    {
      "cell_type": "code",
      "source": [],
      "metadata": {
        "id": "rR2rzlvxQY_b"
      },
      "execution_count": null,
      "outputs": []
    }
  ]
}